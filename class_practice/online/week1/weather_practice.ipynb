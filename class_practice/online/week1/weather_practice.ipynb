{
 "cells": [
  {
   "cell_type": "code",
   "execution_count": 8,
   "metadata": {},
   "outputs": [],
   "source": [
    "from bs4 import BeautifulSoup\n",
    "import requests\n",
    "import pandas as pd\n",
    "\n",
    "page = requests.get(\"https://forecast.weather.gov/MapClick.php?lat=30.3879&lon=-97.9451\")\n",
    "soup = BeautifulSoup(page.content, \"html.parser\")\n",
    "\n",
    "p_period_names = soup.find_all(class_=\"period-name\")\n",
    "period_names = []\n",
    "for p in p_period_names:\n",
    "    period_names.append(p.get_text())\n",
    "\n",
    "p_short_descriptions = soup.find_all(class_=\"short-desc\")\n",
    "short_descriptions = []\n",
    "for p in p_short_descriptions:\n",
    "    short_descriptions.append(p.get_text())\n",
    "\n",
    "p_temperatures = soup.find_all(class_=\"temp\")\n",
    "temperatures = []\n",
    "for p in p_temperatures:\n",
    "    temperatures.append(p.get_text())\n",
    "\n",
    "weather_information = pd.DataFrame({\"Period\": period_names, \"Description\": short_descriptions, \"Temperature\": temperatures})\n",
    "\n",
    "weather_information.to_csv('weather_lakeway.csv', index = None, header=True)"
   ]
  },
  {
   "cell_type": "code",
   "execution_count": null,
   "metadata": {},
   "outputs": [],
   "source": []
  }
 ],
 "metadata": {
  "kernelspec": {
   "display_name": "Python 3",
   "language": "python",
   "name": "python3"
  },
  "language_info": {
   "codemirror_mode": {
    "name": "ipython",
    "version": 3
   },
   "file_extension": ".py",
   "mimetype": "text/x-python",
   "name": "python",
   "nbconvert_exporter": "python",
   "pygments_lexer": "ipython3",
   "version": "3.7.6"
  }
 },
 "nbformat": 4,
 "nbformat_minor": 4
}
