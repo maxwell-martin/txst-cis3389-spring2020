{
 "cells": [
  {
   "cell_type": "code",
   "execution_count": 3,
   "metadata": {},
   "outputs": [
    {
     "name": "stdout",
     "output_type": "stream",
     "text": [
      "['Liberty Fabric Amelie C Tana Lawn']\n",
      "['$7.29+']\n",
      "['5 out of 5 stars']\n"
     ]
    }
   ],
   "source": [
    "from bs4 import BeautifulSoup\n",
    "import requests\n",
    "import pandas as pd\n",
    "\n",
    "page = requests.get(\"https://www.etsy.com/listing/593324254/liberty-fabric-amelie-c-tana-lawn?ref=listing-shop-header-1\")\n",
    "soup = BeautifulSoup(page.content, \"html.parser\")\n",
    "\n",
    "div = soup.find(id=\"listing-page-cart\")\n",
    "\n",
    "name = [div.find(\"h1\").get_text().strip()]\n",
    "price = [div.find(\"h3\").get_text().strip()]\n",
    "rating = [div.find(class_=\"screen-reader-only\").get_text().strip()]\n",
    "\n",
    "print(name)\n",
    "print(price)\n",
    "print(rating)\n",
    "\n",
    "product = pd.DataFrame({ \"Product Name\": name, \"Product Price\": price, \"Product Rating\": rating})\n",
    "\n",
    "product.to_csv('etsy_product.csv', index = None, header=True)"
   ]
  },
  {
   "cell_type": "code",
   "execution_count": null,
   "metadata": {},
   "outputs": [],
   "source": []
  }
 ],
 "metadata": {
  "kernelspec": {
   "display_name": "Python 3",
   "language": "python",
   "name": "python3"
  },
  "language_info": {
   "codemirror_mode": {
    "name": "ipython",
    "version": 3
   },
   "file_extension": ".py",
   "mimetype": "text/x-python",
   "name": "python",
   "nbconvert_exporter": "python",
   "pygments_lexer": "ipython3",
   "version": "3.7.6"
  }
 },
 "nbformat": 4,
 "nbformat_minor": 4
}
