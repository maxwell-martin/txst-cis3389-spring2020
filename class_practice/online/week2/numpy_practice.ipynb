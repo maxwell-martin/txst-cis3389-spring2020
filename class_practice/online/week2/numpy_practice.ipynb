{
 "cells": [
  {
   "cell_type": "code",
   "execution_count": null,
   "metadata": {},
   "outputs": [],
   "source": [
    "import numpy as np"
   ]
  },
  {
   "cell_type": "code",
   "execution_count": 72,
   "metadata": {},
   "outputs": [
    {
     "name": "stdout",
     "output_type": "stream",
     "text": [
      "[[ 4  7 11  2]\n",
      " [ 2  5  3  8]\n",
      " [ 9  8 10  1]]\n"
     ]
    }
   ],
   "source": [
    "# Practice Problem 1\n",
    "\n",
    "# Create a numpy array with random numbers from 0 to 11 (both included). \n",
    "# The shape of the array should be 3 rows and 4 columns.\n",
    "# Display the array.\n",
    "arr = np.random.randint(0,12, size = (3,4))\n",
    "print(arr)"
   ]
  },
  {
   "cell_type": "code",
   "execution_count": 73,
   "metadata": {},
   "outputs": [
    {
     "data": {
      "text/plain": [
       "12"
      ]
     },
     "execution_count": 73,
     "metadata": {},
     "output_type": "execute_result"
    }
   ],
   "source": [
    "# 1)\n",
    "arr.size"
   ]
  },
  {
   "cell_type": "code",
   "execution_count": 74,
   "metadata": {},
   "outputs": [
    {
     "data": {
      "text/plain": [
       "array([[ 2,  5,  3,  8],\n",
       "       [ 9,  8, 10,  1]])"
      ]
     },
     "execution_count": 74,
     "metadata": {},
     "output_type": "execute_result"
    }
   ],
   "source": [
    "# 2)\n",
    "arr[1:,:]"
   ]
  },
  {
   "cell_type": "code",
   "execution_count": 75,
   "metadata": {},
   "outputs": [
    {
     "data": {
      "text/plain": [
       "array([5, 3, 8])"
      ]
     },
     "execution_count": 75,
     "metadata": {},
     "output_type": "execute_result"
    }
   ],
   "source": [
    "# 3)\n",
    "arr[1,-3:]"
   ]
  },
  {
   "cell_type": "code",
   "execution_count": 76,
   "metadata": {},
   "outputs": [
    {
     "data": {
      "text/plain": [
       "array([[12, 21, 33,  6],\n",
       "       [ 6, 15,  9, 24],\n",
       "       [27, 24, 30,  3]])"
      ]
     },
     "execution_count": 76,
     "metadata": {},
     "output_type": "execute_result"
    }
   ],
   "source": [
    "# 4)\n",
    "arr * 3"
   ]
  },
  {
   "cell_type": "code",
   "execution_count": 77,
   "metadata": {},
   "outputs": [
    {
     "name": "stdout",
     "output_type": "stream",
     "text": [
      "[[ 4  7 11  2]\n",
      " [ 2  5  3  8]\n",
      " [ 9  8 10 98]]\n"
     ]
    }
   ],
   "source": [
    "# 5)\n",
    "arr[2,3] = 98\n",
    "print(arr)"
   ]
  },
  {
   "cell_type": "code",
   "execution_count": 78,
   "metadata": {},
   "outputs": [
    {
     "name": "stdout",
     "output_type": "stream",
     "text": [
      "167\n",
      "2\n",
      "98\n"
     ]
    }
   ],
   "source": [
    "# 6)\n",
    "print(np.sum(arr))\n",
    "print(np.min(arr))\n",
    "print(np.max(arr))"
   ]
  },
  {
   "cell_type": "code",
   "execution_count": 80,
   "metadata": {},
   "outputs": [
    {
     "name": "stdout",
     "output_type": "stream",
     "text": [
      "[[ 4.  7. 11.  2.]\n",
      " [ 2.  5.  3.  8.]\n",
      " [ 9.  8. 10. 98.]]\n"
     ]
    },
    {
     "data": {
      "text/plain": [
       "dtype('float64')"
      ]
     },
     "execution_count": 80,
     "metadata": {},
     "output_type": "execute_result"
    }
   ],
   "source": [
    "# 7)\n",
    "arr = arr.astype(np.float)\n",
    "print(arr)\n",
    "arr.dtype"
   ]
  },
  {
   "cell_type": "code",
   "execution_count": 22,
   "metadata": {},
   "outputs": [
    {
     "name": "stdout",
     "output_type": "stream",
     "text": [
      "['id', 'name', 'nationality', 'sex', 'date_of_birth', 'age', 'height', 'weight', 'sport', 'gold', 'silver', 'bronze']\n",
      "['736041664', 'A Jesus Garcia', 'ESP', 'male', '10/17/1969', '30', '1.72', '64', 'athletics', '0', '0', '0']\n",
      "['532037425', 'A Lam Shin', 'KOR', 'female', '9/23/1986', '24', '1.68', '56', 'fencing', '0', '0', '0']\n",
      "['435962603', 'Aaron Brown', 'CAN', 'male', '5/27/1992', '23', '1.98', '79', 'athletics', '0', '0', '1']\n",
      "['521041435', 'Aaron Cook', 'MDA', 'male', '1/2/1991', '23', '1.83', '80', 'taekwondo', '0', '0', '0']\n"
     ]
    }
   ],
   "source": [
    "# Practice Problem 2\n",
    "\n",
    "import csv\n",
    "\n",
    "# a)\n",
    "infile = open(\"athletes.csv\")\n",
    "reader = csv.reader(infile)\n",
    "count = 1\n",
    "for row in reader:\n",
    "    if count > 5:\n",
    "        break\n",
    "    print(row)\n",
    "    count += 1\n",
    "infile.close()"
   ]
  },
  {
   "cell_type": "code",
   "execution_count": 29,
   "metadata": {},
   "outputs": [
    {
     "name": "stdout",
     "output_type": "stream",
     "text": [
      "[['id' 'name' 'nationality' ... 'gold' 'silver' 'bronze']\n",
      " ['736041664' 'A Jesus Garcia' 'ESP' ... '0' '0' '0']\n",
      " ['532037425' 'A Lam Shin' 'KOR' ... '0' '0' '0']\n",
      " ...\n",
      " ['88361042' 'di Xiao' 'CHN' ... '0' '0' '0']\n",
      " ['900065925' 'le Quoc Toan Tran' 'VIE' ... '0' '0' '0']\n",
      " ['711404576' 'le Roux Hamman' 'RSA' ... '0' '0' '0']]\n",
      "<class 'numpy.ndarray'>\n",
      "(11539, 12)\n"
     ]
    }
   ],
   "source": [
    "# b)\n",
    "regular_arr = []\n",
    "infile = open(\"athletes.csv\")\n",
    "reader = csv.reader(infile)\n",
    "for row in reader:\n",
    "    regular_arr.append(row)\n",
    "infile.close()\n",
    "arr = np.array(regular_arr)\n",
    "print(arr)\n",
    "print(type(arr))\n",
    "print(arr.shape)"
   ]
  },
  {
   "cell_type": "code",
   "execution_count": 38,
   "metadata": {},
   "outputs": [
    {
     "name": "stdout",
     "output_type": "stream",
     "text": [
      "60\n"
     ]
    }
   ],
   "source": [
    "# c)\n",
    "arr[2,7] = 60\n",
    "print(arr[2,7])"
   ]
  }
 ],
 "metadata": {
  "kernelspec": {
   "display_name": "Python 3",
   "language": "python",
   "name": "python3"
  },
  "language_info": {
   "codemirror_mode": {
    "name": "ipython",
    "version": 3
   },
   "file_extension": ".py",
   "mimetype": "text/x-python",
   "name": "python",
   "nbconvert_exporter": "python",
   "pygments_lexer": "ipython3",
   "version": "3.7.6"
  }
 },
 "nbformat": 4,
 "nbformat_minor": 4
}
